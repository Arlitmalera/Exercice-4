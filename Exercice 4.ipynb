{
 "cells": [
  {
   "cell_type": "markdown",
   "id": "333347b1",
   "metadata": {},
   "source": [
    "# Question 1\n",
    "Écrivez une classe Python nommée Point3D définie par x, y et z. Définissez une méthode qui renvoie (x, y ,z). Cela indique à Python de représenter cet objet au format suivant : (x, y, z). Créez ensuite une variable nommée my_point contenant une nouvelle instance de Point3D avec x=1, y=2 et z=3 et imprimez-la."
   ]
  },
  {
   "cell_type": "code",
   "execution_count": 15,
   "id": "08c1740f",
   "metadata": {},
   "outputs": [
    {
     "data": {
      "text/plain": [
       "'x=1, y=2 et z=3'"
      ]
     },
     "execution_count": 15,
     "metadata": {},
     "output_type": "execute_result"
    }
   ],
   "source": [
    "class Point3D():\n",
    "    def __init__(self,x,y,z):\n",
    "        self.x=x\n",
    "        self.y=y\n",
    "        self.z=z\n",
    "    def mon_point(self):\n",
    "        return f\"x={self.x}, y={self.y} et z={self.z}\"\n",
    "my_point = Point3D(1,2,3)\n",
    "my_point.mon_point()\n",
    "    "
   ]
  },
  {
   "cell_type": "markdown",
   "id": "c7e395a9",
   "metadata": {},
   "source": [
    "# Question 2\n",
    "Écrivez une classe Python nommée Rectangle construite par une longueur et une largeur. Définissez deux méthodes, aire et périmètre, qui calculeront l'aire et le périmètre du rectangle. Créez ensuite une variable nommée my_rectangle contenant une nouvelle instance de Rectangle avec largeur = 3 et longueur = 4 et calculez à la fois la surface et le périmètre (la surface devrait être 3 * 4 = 12 et le périmètre 2 * (3 + 4) = 14) ."
   ]
  },
  {
   "cell_type": "code",
   "execution_count": 17,
   "id": "25f1f175",
   "metadata": {},
   "outputs": [
    {
     "name": "stdout",
     "output_type": "stream",
     "text": [
      "14 12\n"
     ]
    }
   ],
   "source": [
    "class Rectangle():\n",
    "    def __init__(self,longueur,largeur):\n",
    "        self.L=longueur\n",
    "        self.l=largeur\n",
    "    def perimetre (self):\n",
    "        return (self.L+self.l)*2\n",
    "    def aire (self):\n",
    "        return (self.l*self.L)\n",
    "my_rectangle = Rectangle(4,3)\n",
    "print(my_rectangle.perimetre(),my_rectangle.aire())"
   ]
  },
  {
   "cell_type": "markdown",
   "id": "80c8fc0b",
   "metadata": {},
   "source": [
    "# Question 3\n",
    "Écrivez une classe Python nommée Circle construite par son centre O et son rayon r. Définissez deux méthodes, aire et périmètre, qui calculeront l'aire et le périmètre du cercle, et est la méthode Inside() qui permet de tester si un point A(x, y) appartient au cercle C(O, r) ou non."
   ]
  },
  {
   "cell_type": "code",
   "execution_count": 19,
   "id": "b0465d25",
   "metadata": {},
   "outputs": [
    {
     "name": "stdout",
     "output_type": "stream",
     "text": [
      "31.41592653589793\n",
      "78.53981633974483\n",
      "n'appartient pas\n"
     ]
    }
   ],
   "source": [
    "import math\n",
    "class Circle():\n",
    "    def __init__(self,centre,rayon):\n",
    "        self.o=centre\n",
    "        self.r=rayon\n",
    "    def perimetre (self):\n",
    "        return 2*math.pi*self.r\n",
    "    def aire (self):\n",
    "        return math.pi*self.r**2\n",
    "    def appartenance (self,n):\n",
    "        if n[0]**2+n[1]**2== self.r**2:\n",
    "            return \"appartient\"\n",
    "        else :\n",
    "            return\"n'appartient pas\"\n",
    "premier_cercle = Circle(3,5)\n",
    "print(premier_cercle.perimetre())\n",
    "print(premier_cercle.aire())\n",
    "print(premier_cercle.appartenance((2,3)))\n",
    "    "
   ]
  },
  {
   "cell_type": "markdown",
   "id": "d020ada9",
   "metadata": {},
   "source": [
    "# Question \n",
    "Supposons que nous voulions modéliser un compte bancaire avec prise en charge des opérations de dépôt et de retrait. Créons une classe Python nommée Bank définie par son solde. Définissez deux méthodes, dépôt et retrait, pour calculer le nouveau montant de chaque opération."
   ]
  },
  {
   "cell_type": "code",
   "execution_count": 23,
   "id": "7b408a3a",
   "metadata": {},
   "outputs": [],
   "source": [
    "class Bank:\n",
    "    def __init__(self, solde):\n",
    "        self.solde = solde\n",
    "        \n",
    "    def depot(self, montant):\n",
    "        self.solde += montant\n",
    "        return self.solde\n",
    "        \n",
    "    def retrait(self, montant):\n",
    "        if self.solde - montant >= 0:\n",
    "            self.solde -= montant\n",
    "        else:\n",
    "            print(\"Solde insuffisant\")\n",
    "        return self.solde"
   ]
  }
 ],
 "metadata": {
  "kernelspec": {
   "display_name": "Python 3 (ipykernel)",
   "language": "python",
   "name": "python3"
  },
  "language_info": {
   "codemirror_mode": {
    "name": "ipython",
    "version": 3
   },
   "file_extension": ".py",
   "mimetype": "text/x-python",
   "name": "python",
   "nbconvert_exporter": "python",
   "pygments_lexer": "ipython3",
   "version": "3.9.13"
  }
 },
 "nbformat": 4,
 "nbformat_minor": 5
}
